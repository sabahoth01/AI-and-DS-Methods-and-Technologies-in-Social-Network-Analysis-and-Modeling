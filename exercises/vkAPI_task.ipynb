{
  "cells": [
    {
      "cell_type": "code",
      "execution_count": null,
      "metadata": {
        "id": "KIxTVk1pIPx-"
      },
      "outputs": [],
      "source": [
        "import requests\n",
        "import json\n",
        "import time\n",
        "import os\n",
        "import numpy as np\n",
        "import networkx as nx\n",
        "# !apt install libgraphviz-dev\n",
        "# !pip install pygraphviz\n",
        "# !pip install vk-requests\n",
        "# !pip install python-dotenv\n",
        "from networkx.drawing.nx_agraph import graphviz_layout\n",
        "import pandas as pd\n",
        "import matplotlib.pyplot as plt\n",
        "%matplotlib inline\n",
        "from dotenv import load_dotenv\n",
        "load_dotenv()"
      ]
    },
    {
      "cell_type": "code",
      "execution_count": null,
      "metadata": {},
      "outputs": [],
      "source": [
        "# Check if the environment variable is loaded\n",
        "access_token = os.getenv('VK_ACCESS_TOKEN')\n",
        "\n",
        "# Print the token to verify (optional)\n",
        "if access_token is None:\n",
        "    print(\"Access Token not found. Please check your .env file.\")\n",
        "else:\n",
        "    print(\"Access Token successfully loaded!!\")"
      ]
    },
    {
      "cell_type": "code",
      "execution_count": 39,
      "metadata": {
        "id": "AWLHG9txZw6b"
      },
      "outputs": [],
      "source": [
        "data = requests.get(f'https://api.vk.com/method/friends.get?user_ids=vasaulyua&v=5.81&access_token={token}') # пример запроса списка друзей"
      ]
    },
    {
      "cell_type": "code",
      "execution_count": null,
      "metadata": {
        "colab": {
          "base_uri": "https://localhost:8080/",
          "height": 105
        },
        "id": "eScNBhfdZ0RH",
        "outputId": "b365e37f-01cd-4619-c25b-22463d431106"
      },
      "outputs": [],
      "source": [
        "data.content.decode('utf-8')"
      ]
    },
    {
      "cell_type": "code",
      "execution_count": 43,
      "metadata": {
        "id": "6EqabZ7XZ1m6"
      },
      "outputs": [],
      "source": [
        "data = requests.get(f'https://api.vk.com/method/users.get?user_id=1&v=5.81&access_token={token}')"
      ]
    },
    {
      "cell_type": "code",
      "execution_count": null,
      "metadata": {
        "colab": {
          "base_uri": "https://localhost:8080/",
          "height": 36
        },
        "id": "ic0r2qugaowY",
        "outputId": "fadd579e-d40e-481d-d5f9-6e4c56ea35ea"
      },
      "outputs": [],
      "source": [
        "data.content.decode('utf-8')"
      ]
    },
    {
      "cell_type": "code",
      "execution_count": 9,
      "metadata": {
        "colab": {
          "base_uri": "https://localhost:8080/"
        },
        "id": "nNB-6feIksS8",
        "outputId": "61757bc0-4ce4-41aa-a953-49f6493cdd40"
      },
      "outputs": [],
      "source": [
        "# call_method(f'https://api.vk.com/method/users.get?user_ids=1&v=5.81&access_token={token2}')"
      ]
    },
    {
      "cell_type": "code",
      "execution_count": 21,
      "metadata": {
        "id": "f9apsZGsaq_h"
      },
      "outputs": [],
      "source": [
        "#функция для запроса и обработки данных\n",
        "def call_method(ref: str):\n",
        "    data = requests.get(ref)\n",
        "    txt = data.content.decode('utf-8')\n",
        "    try:\n",
        "        return json.loads(txt)['response']\n",
        "    except:\n",
        "        print(data)\n",
        "        return {}"
      ]
    },
    {
      "cell_type": "code",
      "execution_count": null,
      "metadata": {
        "colab": {
          "base_uri": "https://localhost:8080/"
        },
        "id": "oiVHVUP-2M_z",
        "outputId": "3e6d1569-2edc-4fc5-b13e-57f8a17e1355"
      },
      "outputs": [],
      "source": [
        "\n",
        "txt= data.content.decode('utf-8')\n",
        "#print(txt)\n",
        "x = json.loads(txt)['response']\n",
        "\n",
        "#{'key':'value'}\n",
        "x\n",
        "\n",
        "# x = [5,4,3,2,1]\n",
        "# x[1]"
      ]
    },
    {
      "cell_type": "code",
      "execution_count": null,
      "metadata": {},
      "outputs": [],
      "source": [
        "call_method(f'https://api.vk.com/method/users.get?user_ids=2&v=5.81&access_token={token}')"
      ]
    }
  ],
  "metadata": {
    "colab": {
      "provenance": []
    },
    "kernelspec": {
      "display_name": "Python 3",
      "name": "python3"
    },
    "language_info": {
      "codemirror_mode": {
        "name": "ipython",
        "version": 3
      },
      "file_extension": ".py",
      "mimetype": "text/x-python",
      "name": "python",
      "nbconvert_exporter": "python",
      "pygments_lexer": "ipython3",
      "version": "3.12.6"
    }
  },
  "nbformat": 4,
  "nbformat_minor": 0
}
