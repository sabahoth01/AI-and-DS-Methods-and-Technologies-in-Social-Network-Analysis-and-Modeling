{
  "cells": [
    {
      "cell_type": "code",
      "execution_count": 5,
      "metadata": {
        "id": "KIxTVk1pIPx-"
      },
      "outputs": [
        {
          "name": "stdout",
          "output_type": "stream",
          "text": [
            "Collecting vk\n",
            "  Downloading vk-3.0-py3-none-any.whl.metadata (2.8 kB)\n",
            "Requirement already satisfied: requests~=2.24 in d:\\programs\\python312\\lib\\site-packages (from vk) (2.32.3)\n",
            "Requirement already satisfied: charset-normalizer<4,>=2 in d:\\programs\\python312\\lib\\site-packages (from requests~=2.24->vk) (3.4.0)\n",
            "Requirement already satisfied: idna<4,>=2.5 in d:\\programs\\python312\\lib\\site-packages (from requests~=2.24->vk) (3.10)\n",
            "Requirement already satisfied: urllib3<3,>=1.21.1 in d:\\programs\\python312\\lib\\site-packages (from requests~=2.24->vk) (2.2.3)\n",
            "Requirement already satisfied: certifi>=2017.4.17 in d:\\programs\\python312\\lib\\site-packages (from requests~=2.24->vk) (2024.8.30)\n",
            "Downloading vk-3.0-py3-none-any.whl (11 kB)\n",
            "Installing collected packages: vk\n",
            "Successfully installed vk-3.0\n"
          ]
        }
      ],
      "source": [
        "import requests\n",
        "import json\n",
        "import time\n"
      ]
    },
    {
      "cell_type": "code",
      "execution_count": 2,
      "metadata": {
        "colab": {
          "base_uri": "https://localhost:8080/"
        },
        "id": "ebvAHxZQIXbt",
        "outputId": "03083f19-126e-4b16-c942-729ef90f6ec5"
      },
      "outputs": [],
      "source": [
        "import numpy as np\n",
        "import networkx as nx\n",
        "# !apt install libgraphviz-dev\n",
        "# !pip install pygraphviz\n",
        "# !pip install vk-requests\n",
        "# !pip install python-dotenv\n",
        "from networkx.drawing.nx_agraph import graphviz_layout\n",
        "import pandas as pd\n",
        "import matplotlib.pyplot as plt\n",
        "\n",
        "%matplotlib inline"
      ]
    },
    {
      "cell_type": "code",
      "execution_count": 51,
      "metadata": {
        "id": "t_YG4OQcIsOM"
      },
      "outputs": [
        {
          "data": {
            "text/plain": [
              "True"
            ]
          },
          "execution_count": 51,
          "metadata": {},
          "output_type": "execute_result"
        }
      ],
      "source": [
        "import os\n",
        "from dotenv import load_dotenv\n",
        "\n",
        "# Step 1: Load environment variables from the .env file\n",
        "load_dotenv()\n",
        "# token='vk1.a.6Viup3dcbegMN3ybtXKZZ3bqIREpzYNBkU0yS-g8fT1dlb_qVdF_JErngcHWFN0FPl1lK97srdbPAyC3Oi1C2eM927FE5HzHpiL46lMgrdvkOVrMFrHTajy53W6n8UWz3v7WC9gKWbFMgCq9xou9s8NeBeFqzVeP5xJnX__YJuY7FN2sxmZRJSS2GW0hrOv_SSlygglxBBuXJ_Ld8Usi0Q'"
      ]
    },
    {
      "cell_type": "code",
      "execution_count": 4,
      "metadata": {},
      "outputs": [
        {
          "name": "stdout",
          "output_type": "stream",
          "text": [
            "Access Token: vk1.a.6Viup3dcbegMN3ybtXKZZ3bqIREpzYNBkU0yS-g8fT1dlb_qVdF_JErngcHWFN0FPl1lK97srdbPAyC3Oi1C2eM927FE5HzHpiL46lMgrdvkOVrMFrHTajy53W6n8UWz3v7WC9gKWbFMgCq9xou9s8NeBeFqzVeP5xJnX__YJuY7FN2sxmZRJSS2GW0hrOv_SSlygglxBBuXJ_Ld8Usi0Q\n"
          ]
        }
      ],
      "source": [
        "import os\n",
        "from dotenv import load_dotenv\n",
        "\n",
        "\n",
        "# Load environment variables from the .env file\n",
        "load_dotenv()\n",
        "\n",
        "# Check if the environment variable is loaded\n",
        "access_token = os.getenv('VK_ACCESS_TOKEN')\n",
        "\n",
        "# Print the token to verify (optional)\n",
        "if access_token is None:\n",
        "    print(\"Access Token not found. Please check your .env file.\")\n",
        "else:\n",
        "    print(\"Access Token:\", access_token)"
      ]
    },
    {
      "cell_type": "code",
      "execution_count": 31,
      "metadata": {},
      "outputs": [],
      "source": [
        "tkk='4487b2954487b2954487b295eb47a64c4a444874487b295239b7b4fc25d12ad16ab921c'"
      ]
    },
    {
      "cell_type": "code",
      "execution_count": 39,
      "metadata": {
        "id": "AWLHG9txZw6b"
      },
      "outputs": [],
      "source": [
        "data = requests.get(f'https://api.vk.com/method/friends.get?user_ids=vasaulyua&v=5.81&access_token={token}') # пример запроса списка друзей"
      ]
    },
    {
      "cell_type": "code",
      "execution_count": 40,
      "metadata": {
        "colab": {
          "base_uri": "https://localhost:8080/",
          "height": 105
        },
        "id": "eScNBhfdZ0RH",
        "outputId": "b365e37f-01cd-4619-c25b-22463d431106"
      },
      "outputs": [
        {
          "data": {
            "text/plain": [
              "'{\"response\":{\"count\":197,\"items\":[425000,700325,1897724,4087847,11497286,13510078,30602314,37209360,40238192,48709436,48827155,86268958,89641747,97253374,114103011,115122660,132630094,158552252,171062307,179032275,197716509,197728482,199613294,222382111,224249835,225684659,229352412,230217268,235383628,239100109,275092006,287811930,289635882,294036065,296769551,297868427,321190071,324452583,328177187,332007327,336457372,349042704,364048768,373254724,383537497,385216933,390660004,394174044,396624057,397867498,398024917,401221243,407876011,419158103,425507710,443597468,445045129,445851060,446042450,449198403,449520944,450057464,450203988,450718412,452483433,452748778,454439911,455421864,455666137,456689828,457827444,460320644,460363250,463818754,463993224,465291500,465507817,472199270,478618937,484814723,490251846,491293505,493669845,494102247,495602780,499269730,500307966,500320151,500925994,504863714,504901059,505382267,506659573,508407837,508923039,508952191,509274556,509889209,510552660,511474921,511872868,511961752,512638318,512889166,514119047,515463246,515575522,516763307,519113902,519679586,520090200,522669628,524281204,525908693,526436462,529355026,529648080,536873235,539780500,540864566,543180932,543366997,545966887,546427145,547147158,550788587,552143840,558057497,559992069,560027862,560029342,560088205,560228837,560323726,563663854,563884045,565320388,565504823,565729118,565849014,566050638,566219130,566437571,568781002,570685276,571693163,572326246,574317104,575586864,576951097,577319561,580538509,582544913,585758829,585844073,585967920,592286262,595952250,601519005,613227269,614145883,621335911,625286302,630415049,630685778,668365890,676382760,684738355,709195313,716679775,719148831,745311365,748319677,749193428,756883746,790606914,794998196,799610224,804463669,816213366,816886803,818995392,821528460,823228152,823258964,826188994,826316474,826672082,827563789,829317471,830480736,830617197,832143515,839131828,851431278,859761709,878756286]}}'"
            ]
          },
          "execution_count": 40,
          "metadata": {},
          "output_type": "execute_result"
        }
      ],
      "source": [
        "data.content.decode('utf-8')"
      ]
    },
    {
      "cell_type": "code",
      "execution_count": 43,
      "metadata": {
        "id": "6EqabZ7XZ1m6"
      },
      "outputs": [],
      "source": [
        "data = requests.get(f'https://api.vk.com/method/users.get?user_id=1&v=5.81&access_token={token}')"
      ]
    },
    {
      "cell_type": "code",
      "execution_count": 44,
      "metadata": {
        "colab": {
          "base_uri": "https://localhost:8080/",
          "height": 36
        },
        "id": "ic0r2qugaowY",
        "outputId": "fadd579e-d40e-481d-d5f9-6e4c56ea35ea"
      },
      "outputs": [
        {
          "data": {
            "text/plain": [
              "'{\"response\":[{\"id\":1,\"first_name\":\"Павел\",\"last_name\":\"Дуров\"}]}'"
            ]
          },
          "execution_count": 44,
          "metadata": {},
          "output_type": "execute_result"
        }
      ],
      "source": [
        "data.content.decode('utf-8')"
      ]
    },
    {
      "cell_type": "code",
      "execution_count": 9,
      "metadata": {
        "colab": {
          "base_uri": "https://localhost:8080/"
        },
        "id": "nNB-6feIksS8",
        "outputId": "61757bc0-4ce4-41aa-a953-49f6493cdd40"
      },
      "outputs": [],
      "source": [
        "# call_method(f'https://api.vk.com/method/users.get?user_ids=1&v=5.81&access_token={token2}')"
      ]
    },
    {
      "cell_type": "code",
      "execution_count": 21,
      "metadata": {
        "id": "f9apsZGsaq_h"
      },
      "outputs": [],
      "source": [
        "#функция для запроса и обработки данных\n",
        "def call_method(ref: str):\n",
        "    data = requests.get(ref)\n",
        "    txt = data.content.decode('utf-8')\n",
        "    try:\n",
        "        return json.loads(txt)['response']\n",
        "    except:\n",
        "        print(data)\n",
        "        return {}"
      ]
    },
    {
      "cell_type": "code",
      "execution_count": 22,
      "metadata": {
        "colab": {
          "base_uri": "https://localhost:8080/"
        },
        "id": "oiVHVUP-2M_z",
        "outputId": "3e6d1569-2edc-4fc5-b13e-57f8a17e1355"
      },
      "outputs": [
        {
          "data": {
            "text/plain": [
              "[{'id': 2, 'first_name': 'Александра', 'last_name': 'Владимирова'}]"
            ]
          },
          "execution_count": 22,
          "metadata": {},
          "output_type": "execute_result"
        }
      ],
      "source": [
        "\n",
        "txt= data.content.decode('utf-8')\n",
        "#print(txt)\n",
        "x = json.loads(txt)['response']\n",
        "\n",
        "#{'key':'value'}\n",
        "x\n",
        "\n",
        "# x = [5,4,3,2,1]\n",
        "# x[1]"
      ]
    },
    {
      "cell_type": "code",
      "execution_count": 24,
      "metadata": {},
      "outputs": [
        {
          "data": {
            "text/plain": [
              "[{'id': 2, 'first_name': 'Александра', 'last_name': 'Владимирова'}]"
            ]
          },
          "execution_count": 24,
          "metadata": {},
          "output_type": "execute_result"
        }
      ],
      "source": [
        "call_method(f'https://api.vk.com/method/users.get?user_ids=2&v=5.81&access_token={token}')"
      ]
    }
  ],
  "metadata": {
    "colab": {
      "provenance": []
    },
    "kernelspec": {
      "display_name": "Python 3",
      "name": "python3"
    },
    "language_info": {
      "codemirror_mode": {
        "name": "ipython",
        "version": 3
      },
      "file_extension": ".py",
      "mimetype": "text/x-python",
      "name": "python",
      "nbconvert_exporter": "python",
      "pygments_lexer": "ipython3",
      "version": "3.12.6"
    }
  },
  "nbformat": 4,
  "nbformat_minor": 0
}
